{
 "cells": [
  {
   "cell_type": "code",
   "execution_count": 1,
   "metadata": {},
   "outputs": [],
   "source": [
    "import numpy as np\n",
    "from sklearn.model_selection import train_test_split"
   ]
  },
  {
   "cell_type": "code",
   "execution_count": 81,
   "metadata": {},
   "outputs": [],
   "source": [
    "genres = ['blues', 'classical', 'country', 'disco', 'hiphop', 'jazz', 'metal', 'pop', 'reggae', 'rock']\n",
    "\n",
    "def load_data():\n",
    "    features = []\n",
    "    labels = []\n",
    "\n",
    "    for genre in genres:\n",
    "        for i in range(100):\n",
    "            with open(\"mfcc_data/{}{}.csv\".format(genre, i), \"r\") as data_file:\n",
    "                data = [float(x.strip()) for x in data_file.readlines()[:17910]]\n",
    "                features.append(data)\n",
    "                labels.append(genre)\n",
    "\n",
    "    return np.array(features), np.array(labels)"
   ]
  },
  {
   "cell_type": "code",
   "execution_count": 106,
   "metadata": {},
   "outputs": [],
   "source": [
    "features, labels = load_data()"
   ]
  },
  {
   "cell_type": "code",
   "execution_count": 107,
   "metadata": {},
   "outputs": [],
   "source": [
    "X_train, X_test, y_train, y_test = train_test_split(features, labels, test_size=0.1, random_state=13)"
   ]
  },
  {
   "cell_type": "code",
   "execution_count": 87,
   "metadata": {},
   "outputs": [
    {
     "data": {
      "text/plain": [
       "array(['disco', 'rock', 'pop', 'country', 'rock', 'country', 'blues',\n",
       "       'country', 'blues', 'rock', 'reggae', 'country', 'reggae', 'metal',\n",
       "       'country', 'blues', 'disco', 'blues', 'pop', 'metal', 'country',\n",
       "       'disco', 'country', 'blues', 'reggae', 'country', 'classical',\n",
       "       'pop', 'disco', 'hiphop', 'pop', 'metal', 'rock', 'jazz', 'blues',\n",
       "       'hiphop', 'blues', 'hiphop', 'jazz', 'blues', 'country', 'country',\n",
       "       'hiphop', 'jazz', 'pop', 'reggae', 'rock', 'reggae', 'disco',\n",
       "       'country', 'jazz', 'metal', 'country', 'country', 'jazz', 'blues',\n",
       "       'reggae', 'disco', 'blues', 'jazz', 'pop', 'classical', 'metal',\n",
       "       'rock', 'metal', 'reggae', 'reggae', 'pop', 'pop', 'country',\n",
       "       'jazz', 'disco', 'blues', 'blues', 'jazz', 'hiphop', 'classical',\n",
       "       'classical', 'metal', 'hiphop', 'rock', 'jazz', 'metal', 'jazz',\n",
       "       'hiphop', 'disco', 'reggae', 'country', 'disco', 'metal', 'hiphop',\n",
       "       'classical', 'metal', 'blues', 'country', 'pop', 'reggae', 'pop',\n",
       "       'jazz', 'jazz', 'classical', 'country', 'metal', 'hiphop',\n",
       "       'country', 'country', 'rock', 'classical', 'hiphop', 'pop', 'jazz',\n",
       "       'blues', 'country', 'reggae', 'country', 'country', 'country',\n",
       "       'reggae', 'classical', 'classical', 'jazz', 'classical', 'reggae',\n",
       "       'disco', 'metal', 'classical', 'classical', 'country', 'rock',\n",
       "       'jazz', 'jazz', 'classical', 'pop', 'pop', 'country', 'reggae',\n",
       "       'classical', 'reggae', 'country', 'pop', 'pop', 'classical',\n",
       "       'disco', 'pop', 'hiphop', 'rock', 'classical', 'rock', 'jazz',\n",
       "       'reggae', 'classical', 'classical', 'blues', 'classical', 'metal',\n",
       "       'blues', 'blues', 'pop', 'pop', 'classical', 'metal', 'reggae',\n",
       "       'hiphop', 'jazz', 'country', 'disco', 'disco', 'jazz', 'rock',\n",
       "       'disco', 'rock', 'jazz', 'hiphop', 'blues', 'country', 'rock',\n",
       "       'jazz', 'blues', 'metal', 'classical', 'country', 'hiphop', 'pop',\n",
       "       'blues', 'classical', 'disco', 'pop', 'disco', 'classical',\n",
       "       'metal', 'reggae', 'blues', 'metal', 'hiphop', 'pop', 'metal',\n",
       "       'classical', 'disco', 'metal', 'rock', 'jazz', 'rock', 'classical',\n",
       "       'rock', 'jazz', 'jazz', 'disco', 'jazz', 'hiphop', 'blues', 'pop',\n",
       "       'country', 'reggae', 'country', 'jazz', 'blues', 'pop', 'country',\n",
       "       'metal', 'country', 'hiphop', 'reggae', 'metal', 'metal', 'blues',\n",
       "       'metal', 'rock', 'hiphop', 'rock', 'disco', 'blues', 'blues',\n",
       "       'blues', 'jazz', 'disco', 'classical', 'country', 'hiphop', 'jazz',\n",
       "       'pop', 'pop', 'disco', 'disco', 'classical', 'metal', 'rock',\n",
       "       'reggae', 'country', 'classical', 'jazz', 'jazz', 'classical',\n",
       "       'hiphop', 'blues', 'jazz', 'country', 'jazz', 'blues', 'country',\n",
       "       'hiphop', 'metal', 'reggae', 'pop', 'jazz', 'reggae', 'disco',\n",
       "       'hiphop', 'disco', 'disco', 'blues', 'hiphop', 'reggae', 'hiphop',\n",
       "       'jazz', 'blues', 'disco', 'disco', 'disco', 'country', 'metal',\n",
       "       'disco', 'metal', 'jazz', 'reggae', 'country', 'hiphop', 'jazz',\n",
       "       'country', 'classical', 'pop', 'hiphop', 'metal', 'rock',\n",
       "       'classical', 'reggae', 'country', 'pop', 'pop', 'country', 'metal',\n",
       "       'reggae', 'reggae', 'jazz', 'metal', 'disco', 'blues', 'classical',\n",
       "       'disco', 'rock', 'country', 'country', 'pop', 'rock', 'country',\n",
       "       'rock', 'classical', 'country', 'classical', 'jazz', 'blues',\n",
       "       'country', 'country', 'classical', 'disco', 'metal', 'metal',\n",
       "       'metal', 'rock', 'reggae', 'reggae', 'blues', 'blues', 'country',\n",
       "       'disco', 'blues', 'rock', 'blues', 'classical', 'blues', 'metal',\n",
       "       'blues', 'country', 'jazz', 'hiphop', 'hiphop', 'reggae', 'blues',\n",
       "       'reggae', 'classical', 'country', 'hiphop', 'disco', 'rock', 'pop',\n",
       "       'rock', 'rock', 'hiphop', 'pop', 'country', 'disco', 'hiphop',\n",
       "       'country', 'jazz', 'classical', 'classical', 'disco', 'pop', 'pop',\n",
       "       'metal', 'rock', 'classical', 'reggae', 'reggae', 'reggae',\n",
       "       'reggae', 'hiphop', 'classical', 'jazz', 'country', 'classical',\n",
       "       'rock', 'country', 'pop', 'disco', 'metal', 'disco', 'reggae',\n",
       "       'classical', 'metal', 'jazz', 'rock', 'jazz', 'classical', 'metal',\n",
       "       'disco', 'blues', 'country', 'classical', 'rock', 'pop', 'reggae',\n",
       "       'blues', 'metal', 'jazz', 'classical', 'pop', 'classical', 'pop',\n",
       "       'reggae', 'metal', 'rock', 'hiphop', 'country', 'hiphop', 'blues',\n",
       "       'reggae', 'blues', 'classical', 'classical', 'pop', 'jazz',\n",
       "       'country', 'rock', 'classical', 'disco', 'rock', 'blues', 'pop',\n",
       "       'pop', 'metal', 'reggae', 'rock', 'pop', 'rock', 'reggae',\n",
       "       'country', 'disco', 'reggae', 'rock', 'blues', 'metal', 'pop',\n",
       "       'pop', 'reggae', 'reggae', 'country', 'country', 'disco', 'reggae',\n",
       "       'reggae', 'metal', 'disco', 'disco', 'classical', 'metal', 'disco',\n",
       "       'disco', 'country', 'blues', 'reggae', 'jazz', 'hiphop', 'pop',\n",
       "       'metal', 'hiphop', 'hiphop', 'disco', 'country', 'jazz', 'disco',\n",
       "       'reggae', 'metal', 'disco', 'country', 'pop', 'country', 'reggae',\n",
       "       'blues', 'pop', 'rock', 'disco', 'blues', 'rock', 'rock', 'rock',\n",
       "       'blues', 'disco', 'rock', 'rock', 'disco', 'classical', 'metal',\n",
       "       'disco', 'classical', 'hiphop', 'classical', 'disco', 'pop',\n",
       "       'metal', 'jazz', 'classical', 'pop', 'blues', 'jazz', 'rock',\n",
       "       'classical', 'hiphop', 'reggae', 'reggae', 'classical', 'hiphop',\n",
       "       'rock', 'blues', 'blues', 'metal', 'rock', 'country', 'reggae',\n",
       "       'pop', 'classical', 'rock', 'hiphop', 'metal', 'pop', 'disco',\n",
       "       'hiphop', 'pop', 'reggae', 'rock', 'metal', 'rock', 'disco',\n",
       "       'metal', 'metal', 'pop', 'rock', 'blues', 'blues', 'metal',\n",
       "       'country', 'metal', 'reggae', 'blues', 'metal', 'classical',\n",
       "       'metal', 'classical', 'hiphop', 'classical', 'country', 'metal',\n",
       "       'disco', 'disco', 'blues', 'classical', 'jazz', 'rock', 'reggae',\n",
       "       'blues', 'blues', 'country', 'blues', 'pop', 'reggae', 'jazz',\n",
       "       'classical', 'hiphop', 'disco', 'blues', 'jazz', 'blues', 'blues',\n",
       "       'disco', 'hiphop', 'rock', 'hiphop', 'pop', 'reggae', 'pop',\n",
       "       'jazz', 'rock', 'hiphop', 'hiphop', 'reggae', 'reggae', 'metal',\n",
       "       'jazz', 'jazz', 'blues', 'pop', 'rock', 'blues', 'metal', 'metal',\n",
       "       'disco', 'blues', 'disco', 'country', 'jazz', 'metal', 'jazz',\n",
       "       'classical', 'jazz', 'pop', 'reggae', 'disco', 'disco', 'hiphop',\n",
       "       'jazz', 'rock', 'rock', 'jazz', 'jazz', 'classical', 'blues',\n",
       "       'metal', 'hiphop', 'pop', 'blues', 'blues', 'blues', 'rock', 'pop',\n",
       "       'pop', 'classical', 'jazz', 'classical', 'classical', 'jazz',\n",
       "       'hiphop', 'metal', 'metal', 'pop', 'jazz', 'disco', 'disco',\n",
       "       'jazz', 'metal', 'jazz', 'reggae', 'jazz', 'reggae', 'hiphop',\n",
       "       'rock', 'disco', 'rock', 'country', 'blues', 'classical', 'blues',\n",
       "       'disco', 'rock', 'blues', 'rock', 'disco', 'rock', 'blues',\n",
       "       'hiphop', 'rock', 'pop', 'blues', 'hiphop', 'hiphop', 'metal',\n",
       "       'pop', 'hiphop', 'classical', 'country', 'country', 'reggae',\n",
       "       'classical', 'reggae', 'jazz', 'classical', 'pop', 'metal',\n",
       "       'disco', 'hiphop', 'hiphop', 'classical', 'country', 'jazz', 'pop',\n",
       "       'rock', 'reggae', 'country', 'metal', 'reggae', 'disco', 'country',\n",
       "       'reggae', 'blues', 'classical', 'pop', 'metal', 'disco', 'jazz',\n",
       "       'country', 'metal', 'rock', 'rock', 'blues', 'blues', 'pop',\n",
       "       'country', 'pop', 'metal', 'disco', 'jazz', 'classical', 'rock',\n",
       "       'metal', 'reggae', 'rock', 'reggae', 'metal', 'disco', 'rock',\n",
       "       'jazz', 'classical', 'jazz', 'reggae', 'blues', 'metal', 'disco',\n",
       "       'classical', 'rock', 'blues', 'pop', 'blues', 'metal', 'pop',\n",
       "       'rock', 'rock', 'blues', 'hiphop', 'pop', 'country', 'rock',\n",
       "       'reggae', 'jazz', 'reggae', 'country', 'metal', 'classical',\n",
       "       'hiphop', 'jazz', 'metal', 'pop', 'blues', 'hiphop', 'disco',\n",
       "       'classical', 'jazz', 'hiphop', 'reggae', 'reggae', 'country',\n",
       "       'hiphop', 'jazz', 'rock', 'rock', 'hiphop', 'hiphop', 'country',\n",
       "       'hiphop', 'hiphop', 'hiphop', 'classical', 'classical', 'hiphop',\n",
       "       'pop', 'hiphop', 'rock', 'pop', 'jazz', 'hiphop', 'disco', 'jazz',\n",
       "       'pop', 'hiphop', 'blues', 'pop', 'rock', 'reggae', 'hiphop', 'pop',\n",
       "       'reggae', 'disco', 'blues', 'blues', 'pop', 'pop', 'classical',\n",
       "       'country', 'disco', 'disco', 'hiphop', 'jazz', 'hiphop', 'blues',\n",
       "       'metal', 'hiphop', 'reggae', 'jazz', 'rock', 'rock', 'reggae',\n",
       "       'metal', 'disco', 'disco', 'metal', 'blues', 'classical', 'reggae',\n",
       "       'rock', 'reggae', 'classical', 'country', 'hiphop', 'jazz',\n",
       "       'country', 'pop', 'metal', 'pop', 'classical', 'reggae', 'country',\n",
       "       'disco', 'jazz', 'pop', 'classical', 'jazz', 'reggae', 'hiphop',\n",
       "       'classical', 'reggae', 'hiphop', 'hiphop', 'country', 'rock',\n",
       "       'country', 'metal', 'rock', 'disco', 'hiphop', 'metal', 'country',\n",
       "       'jazz', 'disco', 'country', 'disco', 'reggae', 'metal',\n",
       "       'classical', 'disco', 'hiphop', 'hiphop', 'disco', 'metal',\n",
       "       'reggae', 'jazz', 'disco', 'reggae', 'country', 'blues', 'hiphop',\n",
       "       'country', 'metal', 'blues', 'blues', 'hiphop', 'classical',\n",
       "       'hiphop', 'classical', 'rock', 'classical', 'pop', 'reggae',\n",
       "       'reggae', 'reggae', 'jazz', 'rock', 'country', 'hiphop', 'rock',\n",
       "       'rock', 'metal', 'country', 'rock', 'rock', 'pop', 'classical',\n",
       "       'pop', 'reggae', 'pop', 'jazz', 'blues', 'classical', 'disco'],\n",
       "      dtype='<U9')"
      ]
     },
     "execution_count": 87,
     "metadata": {},
     "output_type": "execute_result"
    }
   ],
   "source": [
    "y_train"
   ]
  },
  {
   "cell_type": "code",
   "execution_count": 76,
   "metadata": {},
   "outputs": [
    {
     "data": {
      "text/plain": [
       "17910"
      ]
     },
     "execution_count": 76,
     "metadata": {},
     "output_type": "execute_result"
    }
   ],
   "source": [
    "all = []\n",
    "\n",
    "for genre in genres:\n",
    "    for i in range(100):\n",
    "        with open(\"mfcc_data/{}{}.csv\".format(genre, i), \"r\") as data_file:\n",
    "            data = [float(x.strip()) for x in data_file.readlines()]\n",
    "            all.append(data)\n",
    "m = 100000        \n",
    "for a in all:\n",
    "    if len(a) < m:\n",
    "        m = len(a)\n",
    "        \n",
    "m"
   ]
  },
  {
   "cell_type": "code",
   "execution_count": 102,
   "metadata": {},
   "outputs": [],
   "source": [
    "from sklearn.svm import SVC\n",
    "from sklearn.linear_model import LogisticRegression"
   ]
  },
  {
   "cell_type": "code",
   "execution_count": 99,
   "metadata": {},
   "outputs": [
    {
     "data": {
      "text/plain": [
       "SVC(C=1.0, cache_size=200, class_weight=None, coef0=0.0,\n",
       "  decision_function_shape='ovr', degree=3, gamma='auto_deprecated',\n",
       "  kernel='linear', max_iter=-1, probability=False, random_state=None,\n",
       "  shrinking=True, tol=0.001, verbose=False)"
      ]
     },
     "execution_count": 99,
     "metadata": {},
     "output_type": "execute_result"
    }
   ],
   "source": [
    "clf = SVC(kernel = 'linear')\n",
    "clf.fit(X_train, y_train)"
   ]
  },
  {
   "cell_type": "code",
   "execution_count": 90,
   "metadata": {},
   "outputs": [],
   "source": [
    "from sklearn.metrics import accuracy_score"
   ]
  },
  {
   "cell_type": "code",
   "execution_count": 108,
   "metadata": {},
   "outputs": [
    {
     "name": "stderr",
     "output_type": "stream",
     "text": [
      "/Users/nphung/Desktop/MusicProject/venv/lib/python3.6/site-packages/sklearn/linear_model/logistic.py:433: FutureWarning: Default solver will be changed to 'lbfgs' in 0.22. Specify a solver to silence this warning.\n",
      "  FutureWarning)\n",
      "/Users/nphung/Desktop/MusicProject/venv/lib/python3.6/site-packages/sklearn/linear_model/logistic.py:460: FutureWarning: Default multi_class will be changed to 'auto' in 0.22. Specify the multi_class option to silence this warning.\n",
      "  \"this warning.\", FutureWarning)\n"
     ]
    },
    {
     "data": {
      "text/plain": [
       "LogisticRegression(C=1.0, class_weight=None, dual=False, fit_intercept=True,\n",
       "          intercept_scaling=1, max_iter=100, multi_class='warn',\n",
       "          n_jobs=None, penalty='l2', random_state=None, solver='warn',\n",
       "          tol=0.0001, verbose=0, warm_start=False)"
      ]
     },
     "execution_count": 108,
     "metadata": {},
     "output_type": "execute_result"
    }
   ],
   "source": [
    "model = LogisticRegression()\n",
    "model.fit(X_train, y_train)"
   ]
  },
  {
   "cell_type": "code",
   "execution_count": 109,
   "metadata": {},
   "outputs": [],
   "source": [
    "y_pred = model.predict(X_test)"
   ]
  },
  {
   "cell_type": "code",
   "execution_count": 110,
   "metadata": {},
   "outputs": [
    {
     "data": {
      "text/plain": [
       "0.18"
      ]
     },
     "execution_count": 110,
     "metadata": {},
     "output_type": "execute_result"
    }
   ],
   "source": [
    "accuracy_score(y_pred, y_test)"
   ]
  },
  {
   "cell_type": "code",
   "execution_count": null,
   "metadata": {},
   "outputs": [],
   "source": []
  }
 ],
 "metadata": {
  "kernelspec": {
   "display_name": "Python 3",
   "language": "python",
   "name": "python3"
  },
  "language_info": {
   "codemirror_mode": {
    "name": "ipython",
    "version": 3
   },
   "file_extension": ".py",
   "mimetype": "text/x-python",
   "name": "python",
   "nbconvert_exporter": "python",
   "pygments_lexer": "ipython3",
   "version": "3.6.6"
  }
 },
 "nbformat": 4,
 "nbformat_minor": 2
}
